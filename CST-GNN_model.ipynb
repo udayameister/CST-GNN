{
  "nbformat": 4,
  "nbformat_minor": 0,
  "metadata": {
    "colab": {
      "provenance": [],
      "authorship_tag": "ABX9TyPdTfVlugkA60KWE9BFuNG3",
      "include_colab_link": true
    },
    "kernelspec": {
      "name": "python3",
      "display_name": "Python 3"
    },
    "language_info": {
      "name": "python"
    }
  },
  "cells": [
    {
      "cell_type": "markdown",
      "metadata": {
        "id": "view-in-github",
        "colab_type": "text"
      },
      "source": [
        "<a href=\"https://colab.research.google.com/github/udayameister/CST-GNN/blob/main/CST-GNN_model.ipynb\" target=\"_parent\"><img src=\"https://colab.research.google.com/assets/colab-badge.svg\" alt=\"Open In Colab\"/></a>"
      ]
    },
    {
      "cell_type": "markdown",
      "source": [
        "**CST-GNN Implementation in PyTorch**"
      ],
      "metadata": {
        "id": "K3RlIKIHA8aY"
      }
    },
    {
      "cell_type": "code",
      "source": [
        "import torch\n",
        "import torch.nn as nn\n",
        "import torch.nn.functional as F\n",
        "import torch_geometric\n",
        "from torch_geometric.nn import ChebConv, GCNConv, global_mean_pool\n",
        "\n",
        "class EmbeddingLayer(nn.Module):\n",
        "    def __init__(self, in_channels, out_channels):\n",
        "        super(EmbeddingLayer, self).__init__()\n",
        "        self.fc = nn.Linear(in_channels, out_channels)\n",
        "\n",
        "    def forward(self, x):\n",
        "        return F.relu(self.fc(x))\n",
        "\n",
        "class TemporalConvLayer(nn.Module):\n",
        "    def __init__(self, in_channels, out_channels, kernel_size, dilation):\n",
        "        super(TemporalConvLayer, self).__init__()\n",
        "        self.conv = nn.Conv2d(in_channels, out_channels, (1, kernel_size), dilation=dilation)\n",
        "        self.gate = nn.Conv2d(in_channels, out_channels, (1, kernel_size), dilation=dilation)\n",
        "\n",
        "    def forward(self, x):\n",
        "        return torch.tanh(self.conv(x)) * torch.sigmoid(self.gate(x))\n",
        "\n",
        "class SpatialGraphConvLayer(nn.Module):\n",
        "    def __init__(self, in_channels, out_channels, K):\n",
        "        super(SpatialGraphConvLayer, self).__init__()\n",
        "        self.conv = ChebConv(in_channels, out_channels, K)\n",
        "\n",
        "    def forward(self, x, edge_index):\n",
        "        return F.relu(self.conv(x, edge_index))\n",
        "\n",
        "class MultiFusionModule(nn.Module):\n",
        "    def __init__(self, in_channels, out_channels):\n",
        "        super(MultiFusionModule, self).__init__()\n",
        "        self.layer_norm = nn.LayerNorm(out_channels)\n",
        "\n",
        "    def forward(self, C_dis, C_pat, C_dyn, residual):\n",
        "        return self.layer_norm(C_dis + C_pat + C_dyn + residual)\n",
        "\n",
        "class FeatureAggregationLayer(nn.Module):\n",
        "    def __init__(self, in_channels, out_channels):\n",
        "        super(FeatureAggregationLayer, self).__init__()\n",
        "        self.fc = nn.Linear(in_channels, out_channels)\n",
        "\n",
        "    def forward(self, S_r, S_prev):\n",
        "        return F.relu(self.fc(S_r) + S_prev)\n",
        "\n",
        "class CSTGNN(nn.Module):\n",
        "    def __init__(self, num_nodes, in_channels, out_channels, K, num_classes):\n",
        "        super(CSTGNN, self).__init__()\n",
        "        self.embedding_layer = EmbeddingLayer(in_channels, out_channels)\n",
        "        self.temporal_conv_layer = TemporalConvLayer(out_channels, out_channels, kernel_size=3, dilation=1)\n",
        "        self.spatial_graph_conv_layer = SpatialGraphConvLayer(out_channels, out_channels, K)\n",
        "        self.multi_fusion_module = MultiFusionModule(out_channels, out_channels)\n",
        "        self.feature_aggregation_layer = FeatureAggregationLayer(out_channels, out_channels)\n",
        "        self.prediction_layer = nn.Linear(out_channels * num_nodes, num_classes)\n",
        "\n",
        "    def forward(self, x, edge_index):\n",
        "        x = self.embedding_layer(x)\n",
        "        x = self.temporal_conv_layer(x.unsqueeze(1)).squeeze(1)\n",
        "        C_dis = self.spatial_graph_conv_layer(x, edge_index)\n",
        "        C_pat = self.spatial_graph_conv_layer(x, edge_index)\n",
        "        C_dyn = self.spatial_graph_conv_layer(x, edge_index)\n",
        "        x = self.multi_fusion_module(C_dis, C_pat, C_dyn, x)\n",
        "        x = self.feature_aggregation_layer(x, x)\n",
        "        x = x.view(x.size(0), -1)\n",
        "        return self.prediction_layer(x)\n",
        "\n",
        "# Example usage\n",
        "num_nodes = 10\n",
        "in_channels = 3\n",
        "out_channels = 16\n",
        "K = 3\n",
        "num_classes = 2\n",
        "\n",
        "model = CSTGNN(num_nodes, in_channels, out_channels, K, num_classes)\n",
        "optimizer = torch.optim.Adam(model.parameters(), lr=0.01)\n",
        "criterion = nn.CrossEntropyLoss()\n",
        "\n",
        "# Assuming data is a PyG Data object with 'x' as node features and 'edge_index' as edge index\n",
        "data = torch_geometric.data.Data(x=torch.randn(1, num_nodes, in_channels), edge_index=torch.tensor([[0, 1], [1, 2]], dtype=torch.long))\n",
        "\n",
        "# Training loop\n",
        "model.train()\n",
        "optimizer.zero_grad()\n",
        "out = model(data.x, data.edge_index)\n",
        "loss = criterion(out, torch.tensor([1]))  # Example target\n",
        "loss.backward()\n",
        "optimizer.step()\n"
      ],
      "metadata": {
        "id": "GxgHNRDjBA1Y"
      },
      "execution_count": null,
      "outputs": []
    },
    {
      "cell_type": "markdown",
      "source": [
        "**Baseline Model Comparison**"
      ],
      "metadata": {
        "id": "APcDDZe9BJrh"
      }
    },
    {
      "cell_type": "markdown",
      "source": [
        "For comparison, we'll use a simple Graph Convolutional Network (GCN) as a baseline."
      ],
      "metadata": {
        "id": "93GjNM_zBOeI"
      }
    },
    {
      "cell_type": "code",
      "source": [
        "from torch_geometric.nn import GCNConv\n",
        "\n",
        "class GCN(nn.Module):\n",
        "    def __init__(self, num_nodes, in_channels, out_channels, num_classes):\n",
        "        super(GCN, self).__init__()\n",
        "        self.conv1 = GCNConv(in_channels, out_channels)\n",
        "        self.conv2 = GCNConv(out_channels, out_channels)\n",
        "        self.fc = nn.Linear(out_channels * num_nodes, num_classes)\n",
        "\n",
        "    def forward(self, x, edge_index):\n",
        "        x = F.relu(self.conv1(x, edge_index))\n",
        "        x = self.conv2(x, edge_index)\n",
        "        x = x.view(x.size(0), -1)\n",
        "        return self.fc(x)\n",
        "\n",
        "# Example usage\n",
        "baseline_model = GCN(num_nodes, in_channels, out_channels, num_classes)\n",
        "baseline_optimizer = torch.optim.Adam(baseline_model.parameters(), lr=0.01)\n",
        "baseline_criterion = nn.CrossEntropyLoss()\n",
        "\n",
        "# Training loop for baseline model\n",
        "baseline_model.train()\n",
        "baseline_optimizer.zero_grad()\n",
        "baseline_out = baseline_model(data.x, data.edge_index)\n",
        "baseline_loss = baseline_criterion(baseline_out, torch.tensor([1]))  # Example target\n",
        "baseline_loss.backward()\n",
        "baseline_optimizer.step()\n"
      ],
      "metadata": {
        "id": "k7H232CLBRox"
      },
      "execution_count": null,
      "outputs": []
    },
    {
      "cell_type": "markdown",
      "source": [
        "Comparing Results"
      ],
      "metadata": {
        "id": "ja3eqfImBWK4"
      }
    },
    {
      "cell_type": "markdown",
      "source": [
        "After training both models, you would compare their performance on a test set."
      ],
      "metadata": {
        "id": "CAWF_UtDBW6B"
      }
    },
    {
      "cell_type": "code",
      "source": [
        "# Assume test_data is a PyG Data object with 'x' as node features and 'edge_index' as edge index\n",
        "\n",
        "# Evaluate CST-GNN\n",
        "model.eval()\n",
        "cst_gnn_out = model(test_data.x, test_data.edge_index)\n",
        "cst_gnn_pred = cst_gnn_out.argmax(dim=1)\n",
        "\n",
        "# Evaluate Baseline GCN\n",
        "baseline_model.eval()\n",
        "baseline_out = baseline_model(test_data.x, test_data.edge_index)\n",
        "baseline_pred = baseline_out.argmax(dim=1)\n",
        "\n",
        "# Calculate metrics (accuracy, F1-score, etc.)\n",
        "from sklearn.metrics import accuracy_score, f1_score\n",
        "\n",
        "true_labels = ...  # Ground truth labels for test data\n",
        "\n",
        "cst_gnn_accuracy = accuracy_score(true_labels, cst_gnn_pred)\n",
        "cst_gnn_f1 = f1_score(true_labels, cst_gnn_pred, average='weighted')\n",
        "\n",
        "baseline_accuracy = accuracy_score(true_labels, baseline_pred)\n",
        "baseline_f1 = f1_score(true_labels, baseline_pred, average='weighted')\n",
        "\n",
        "print(f\"CST-GNN Accuracy: {cst_gnn_accuracy}, F1-score: {cst_gnn_f1}\")\n",
        "print(f\"Baseline GCN Accuracy: {baseline_accuracy}, F1-score: {baseline_f1}\")\n"
      ],
      "metadata": {
        "id": "mq8UA6xrBZUx"
      },
      "execution_count": null,
      "outputs": []
    }
  ]
}