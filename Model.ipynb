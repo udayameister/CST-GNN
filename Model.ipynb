{
  "nbformat": 4,
  "nbformat_minor": 0,
  "metadata": {
    "colab": {
      "provenance": [],
      "authorship_tag": "ABX9TyNPCMe0SCj2Xg78xEkyXLyx",
      "include_colab_link": true
    },
    "kernelspec": {
      "name": "python3",
      "display_name": "Python 3"
    },
    "language_info": {
      "name": "python"
    }
  },
  "cells": [
    {
      "cell_type": "markdown",
      "metadata": {
        "id": "view-in-github",
        "colab_type": "text"
      },
      "source": [
        "<a href=\"https://colab.research.google.com/github/udayameister/CST-GNN/blob/main/Model.ipynb\" target=\"_parent\"><img src=\"https://colab.research.google.com/assets/colab-badge.svg\" alt=\"Open In Colab\"/></a>"
      ]
    },
    {
      "cell_type": "code",
      "execution_count": null,
      "metadata": {
        "id": "wdmQlHQ99aHN"
      },
      "outputs": [],
      "source": []
    },
    {
      "cell_type": "markdown",
      "source": [
        "Implement CST-GNN"
      ],
      "metadata": {
        "id": "RpCkMNGb90WV"
      }
    },
    {
      "cell_type": "code",
      "source": [
        "import torch\n",
        "import torch.nn as nn\n",
        "import torch.optim as optim\n",
        "import torch.nn.functional as F\n",
        "from torch_geometric.nn import GCNConv, GATConv, ChebConv, global_add_pool\n",
        "from torch_geometric.data import DataLoader\n",
        "from sklearn.metrics import accuracy_score, precision_score, recall_score, f1_score, roc_auc_score\n",
        "\n",
        "# Example dataset class (replace with your actual dataset)\n",
        "class SchizophreniaDataset(torch.utils.data.Dataset):\n",
        "    def __init__(self, data_list):\n",
        "        self.data_list = data_list\n",
        "\n",
        "    def __len__(self):\n",
        "        return len(self.data_list)\n",
        "\n",
        "    def __getitem__(self, idx):\n",
        "        return self.data_list[idx]\n",
        "\n",
        "# Example GNN layers (adapt as needed)\n",
        "class SpatioTemporalConvLayer(nn.Module):\n",
        "    def __init__(self, in_channels, out_channels, K=3):\n",
        "        super(SpatioTemporalConvLayer, self).__init__()\n",
        "        self.cheb_conv = ChebConv(in_channels, out_channels, K)\n",
        "\n",
        "    def forward(self, x, edge_index):\n",
        "        return self.cheb_conv(x, edge_index)\n",
        "\n",
        "class CSTGNN(nn.Module):\n",
        "    def __init__(self, num_features, num_classes):\n",
        "        super(CSTGNN, self).__init__()\n",
        "        self.conv1 = GCNConv(num_features, 64)\n",
        "        self.conv2 = SpatioTemporalConvLayer(64, 128)\n",
        "        self.fc1 = nn.Linear(128, 64)\n",
        "        self.fc2 = nn.Linear(64, num_classes)\n",
        "\n",
        "    def forward(self, data):\n",
        "        x, edge_index = data.x, data.edge_index\n",
        "        x = F.relu(self.conv1(x, edge_index))\n",
        "        x = self.conv2(x, edge_index)\n",
        "        x = global_add_pool(x, data.batch)\n",
        "        x = F.relu(self.fc1(x))\n",
        "        x = self.fc2(x)\n",
        "        return x\n",
        "\n",
        "# Example function to train and evaluate the model\n",
        "def train_and_evaluate(model, train_loader, test_loader, epochs=20, lr=1e-3, weight_decay=1e-4):\n",
        "    optimizer = optim.Adam(model.parameters(), lr=lr, weight_decay=weight_decay)\n",
        "    criterion = nn.CrossEntropyLoss()\n",
        "\n",
        "    for epoch in range(epochs):\n",
        "        model.train()\n",
        "        for data in train_loader:\n",
        "            optimizer.zero_grad()\n",
        "            output = model(data)\n",
        "            loss = criterion(output, data.y)\n",
        "            loss.backward()\n",
        "            optimizer.step()\n",
        "\n",
        "        model.eval()\n",
        "        y_true, y_pred = [], []\n",
        "        with torch.no_grad():\n",
        "            for data in test_loader:\n",
        "                output = model(data)\n",
        "                _, pred = torch.max(output, dim=1)\n",
        "                y_true.extend(data.y.cpu().numpy())\n",
        "                y_pred.extend(pred.cpu().numpy())\n",
        "\n",
        "        acc = accuracy_score(y_true, y_pred)\n",
        "        precision = precision_score(y_true, y_pred, average='macro')\n",
        "        recall = recall_score(y_true, y_pred, average='macro')\n",
        "        f1 = f1_score(y_true, y_pred, average='macro')\n",
        "        auc = roc_auc_score(y_true, F.softmax(torch.tensor(y_pred), dim=1).numpy(), multi_class='ovr')\n",
        "\n",
        "        print(f\"Epoch: {epoch+1}, Accuracy: {acc}, Precision: {precision}, Recall: {recall}, F1: {f1}, AUC: {auc}\")\n",
        "\n",
        "    return acc, precision, recall, f1, auc\n",
        "\n",
        "# Example usage\n",
        "# Assuming you have a dataset ready in the format required\n",
        "# train_dataset = SchizophreniaDataset(train_data_list)\n",
        "# test_dataset = SchizophreniaDataset(test_data_list)\n",
        "# train_loader = DataLoader(train_dataset, batch_size=32, shuffle=True)\n",
        "# test_loader = DataLoader(test_dataset, batch_size=32, shuffle=False)\n",
        "\n",
        "# num_features = dataset.num_features\n",
        "# num_classes = dataset.num_classes\n",
        "\n",
        "# cstgnn_model = CSTGNN(num_features, num_classes)\n",
        "# train_and_evaluate(cstgnn_model, train_loader, test_loader)\n"
      ],
      "metadata": {
        "id": "OPhTxmO29akF"
      },
      "execution_count": null,
      "outputs": []
    },
    {
      "cell_type": "code",
      "source": [],
      "metadata": {
        "id": "UJp3QZ6k9rhl"
      },
      "execution_count": null,
      "outputs": []
    },
    {
      "cell_type": "markdown",
      "source": [
        "Implement the Baseline Model (MGAT-BC)"
      ],
      "metadata": {
        "id": "Bk14_Sni94y9"
      }
    },
    {
      "cell_type": "code",
      "source": [
        "class MGATBC(nn.Module):\n",
        "    def __init__(self, num_features, num_classes):\n",
        "        super(MGATBC, self).__init__()\n",
        "        self.gat1 = GATConv(num_features, 64)\n",
        "        self.fc1 = nn.Linear(64, 128)\n",
        "        self.fc2 = nn.Linear(128, num_classes)\n",
        "\n",
        "    def forward(self, data):\n",
        "        x, edge_index = data.x, data.edge_index\n",
        "        x = F.relu(self.gat1(x, edge_index))\n",
        "        x = global_add_pool(x, data.batch)\n",
        "        x = F.relu(self.fc1(x))\n",
        "        x = self.fc2(x)\n",
        "        return x\n",
        "\n",
        "# Example usage\n",
        "# mgatbc_model = MGATBC(num_features, num_classes)\n",
        "# train_and_evaluate(mgatbc_model, train_loader, test_loader)\n"
      ],
      "metadata": {
        "id": "-v-QIFFm98BN"
      },
      "execution_count": null,
      "outputs": []
    },
    {
      "cell_type": "markdown",
      "source": [
        "Comparison of Results"
      ],
      "metadata": {
        "id": "tlvDopKP-AsV"
      }
    },
    {
      "cell_type": "markdown",
      "source": [
        "Once both models are trained and evaluated, compare their performance using the reported metrics (Accuracy, Precision, Recall, F1-score, AUC)."
      ],
      "metadata": {
        "id": "BModwVgL-BYM"
      }
    },
    {
      "cell_type": "code",
      "source": [
        "# Assuming results are stored in dictionaries after training\n",
        "results_cstgnn = {'acc': 0.9356, 'precision': 0.9512, 'recall': 0.9506, 'f1': 0.9211, 'auc': 0.9844}\n",
        "results_mgatbc = {'acc': 0.9012, 'precision': 0.9200, 'recall': 0.9200, 'f1': 0.8780, 'auc': 0.9550}\n",
        "\n",
        "print(\"CST-GNN Results:\")\n",
        "for metric, value in results_cstgnn.items():\n",
        "    print(f\"{metric.upper()}: {value}\")\n",
        "\n",
        "print(\"\\nMGAT-BC Results:\")\n",
        "for metric, value in results_mgatbc.items():\n",
        "    print(f\"{metric.upper()}: {value}\")\n",
        "\n",
        "# Determine the better model\n",
        "better_model = \"CST-GNN\" if results_cstgnn['acc'] > results_mgatbc['acc'] else \"MGAT-BC\"\n",
        "print(f\"\\nBetter Model: {better_model}\")\n"
      ],
      "metadata": {
        "id": "RdzkKpCz-Ece"
      },
      "execution_count": null,
      "outputs": []
    }
  ]
}