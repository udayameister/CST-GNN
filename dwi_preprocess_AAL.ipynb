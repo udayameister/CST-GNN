{
  "nbformat": 4,
  "nbformat_minor": 0,
  "metadata": {
    "colab": {
      "provenance": [],
      "authorship_tag": "ABX9TyPtgi4hqK9uYmUHUakvMtC+",
      "include_colab_link": true
    },
    "kernelspec": {
      "name": "python3",
      "display_name": "Python 3"
    },
    "language_info": {
      "name": "python"
    }
  },
  "cells": [
    {
      "cell_type": "markdown",
      "metadata": {
        "id": "view-in-github",
        "colab_type": "text"
      },
      "source": [
        "<a href=\"https://colab.research.google.com/github/udayameister/CST-GNN/blob/main/dwi_preprocess_AAL.ipynb\" target=\"_parent\"><img src=\"https://colab.research.google.com/assets/colab-badge.svg\" alt=\"Open In Colab\"/></a>"
      ]
    },
    {
      "cell_type": "code",
      "execution_count": 1,
      "metadata": {
        "colab": {
          "base_uri": "https://localhost:8080/"
        },
        "id": "HcT4hORQBAZ3",
        "outputId": "d259729e-236d-419a-b9a8-0af2926748fa"
      },
      "outputs": [
        {
          "output_type": "stream",
          "name": "stdout",
          "text": [
            "Requirement already satisfied: nibabel in /usr/local/lib/python3.10/dist-packages (4.0.2)\n",
            "Collecting dipy\n",
            "  Downloading dipy-1.9.0-cp310-cp310-manylinux_2_17_x86_64.manylinux2014_x86_64.whl (9.0 MB)\n",
            "\u001b[2K     \u001b[90m━━━━━━━━━━━━━━━━━━━━━━━━━━━━━━━━━━━━━━━━\u001b[0m \u001b[32m9.0/9.0 MB\u001b[0m \u001b[31m25.6 MB/s\u001b[0m eta \u001b[36m0:00:00\u001b[0m\n",
            "\u001b[?25hCollecting nilearn\n",
            "  Downloading nilearn-0.10.4-py3-none-any.whl (10.4 MB)\n",
            "\u001b[2K     \u001b[90m━━━━━━━━━━━━━━━━━━━━━━━━━━━━━━━━━━━━━━━━\u001b[0m \u001b[32m10.4/10.4 MB\u001b[0m \u001b[31m90.4 MB/s\u001b[0m eta \u001b[36m0:00:00\u001b[0m\n",
            "\u001b[?25hRequirement already satisfied: networkx in /usr/local/lib/python3.10/dist-packages (3.3)\n",
            "Requirement already satisfied: numpy>=1.17 in /usr/local/lib/python3.10/dist-packages (from nibabel) (1.25.2)\n",
            "Requirement already satisfied: packaging>=17.0 in /usr/local/lib/python3.10/dist-packages (from nibabel) (24.1)\n",
            "Requirement already satisfied: setuptools in /usr/local/lib/python3.10/dist-packages (from nibabel) (67.7.2)\n",
            "Requirement already satisfied: scipy>=1.8 in /usr/local/lib/python3.10/dist-packages (from dipy) (1.11.4)\n",
            "Requirement already satisfied: h5py>=3.1.0 in /usr/local/lib/python3.10/dist-packages (from dipy) (3.9.0)\n",
            "Requirement already satisfied: tqdm>=4.30.0 in /usr/local/lib/python3.10/dist-packages (from dipy) (4.66.4)\n",
            "Collecting trx-python>=0.2.9 (from dipy)\n",
            "  Downloading trx_python-0.3-py3-none-any.whl (45 kB)\n",
            "\u001b[2K     \u001b[90m━━━━━━━━━━━━━━━━━━━━━━━━━━━━━━━━━━━━━━━━\u001b[0m \u001b[32m45.2/45.2 kB\u001b[0m \u001b[31m6.9 MB/s\u001b[0m eta \u001b[36m0:00:00\u001b[0m\n",
            "\u001b[?25hRequirement already satisfied: joblib>=1.0.0 in /usr/local/lib/python3.10/dist-packages (from nilearn) (1.4.2)\n",
            "Requirement already satisfied: lxml in /usr/local/lib/python3.10/dist-packages (from nilearn) (4.9.4)\n",
            "Requirement already satisfied: pandas>=1.1.5 in /usr/local/lib/python3.10/dist-packages (from nilearn) (2.0.3)\n",
            "Requirement already satisfied: requests>=2.25.0 in /usr/local/lib/python3.10/dist-packages (from nilearn) (2.31.0)\n",
            "Requirement already satisfied: scikit-learn>=1.0.0 in /usr/local/lib/python3.10/dist-packages (from nilearn) (1.2.2)\n",
            "Requirement already satisfied: python-dateutil>=2.8.2 in /usr/local/lib/python3.10/dist-packages (from pandas>=1.1.5->nilearn) (2.8.2)\n",
            "Requirement already satisfied: pytz>=2020.1 in /usr/local/lib/python3.10/dist-packages (from pandas>=1.1.5->nilearn) (2023.4)\n",
            "Requirement already satisfied: tzdata>=2022.1 in /usr/local/lib/python3.10/dist-packages (from pandas>=1.1.5->nilearn) (2024.1)\n",
            "Requirement already satisfied: charset-normalizer<4,>=2 in /usr/local/lib/python3.10/dist-packages (from requests>=2.25.0->nilearn) (3.3.2)\n",
            "Requirement already satisfied: idna<4,>=2.5 in /usr/local/lib/python3.10/dist-packages (from requests>=2.25.0->nilearn) (3.7)\n",
            "Requirement already satisfied: urllib3<3,>=1.21.1 in /usr/local/lib/python3.10/dist-packages (from requests>=2.25.0->nilearn) (2.0.7)\n",
            "Requirement already satisfied: certifi>=2017.4.17 in /usr/local/lib/python3.10/dist-packages (from requests>=2.25.0->nilearn) (2024.6.2)\n",
            "Requirement already satisfied: threadpoolctl>=2.0.0 in /usr/local/lib/python3.10/dist-packages (from scikit-learn>=1.0.0->nilearn) (3.5.0)\n",
            "Collecting setuptools-scm (from trx-python>=0.2.9->dipy)\n",
            "  Downloading setuptools_scm-8.1.0-py3-none-any.whl (43 kB)\n",
            "\u001b[2K     \u001b[90m━━━━━━━━━━━━━━━━━━━━━━━━━━━━━━━━━━━━━━━━\u001b[0m \u001b[32m43.7/43.7 kB\u001b[0m \u001b[31m6.5 MB/s\u001b[0m eta \u001b[36m0:00:00\u001b[0m\n",
            "\u001b[?25hCollecting deepdiff (from trx-python>=0.2.9->dipy)\n",
            "  Downloading deepdiff-7.0.1-py3-none-any.whl (80 kB)\n",
            "\u001b[2K     \u001b[90m━━━━━━━━━━━━━━━━━━━━━━━━━━━━━━━━━━━━━━━━\u001b[0m \u001b[32m80.8/80.8 kB\u001b[0m \u001b[31m14.1 MB/s\u001b[0m eta \u001b[36m0:00:00\u001b[0m\n",
            "\u001b[?25hCollecting nibabel\n",
            "  Downloading nibabel-5.2.1-py3-none-any.whl (3.3 MB)\n",
            "\u001b[2K     \u001b[90m━━━━━━━━━━━━━━━━━━━━━━━━━━━━━━━━━━━━━━━━\u001b[0m \u001b[32m3.3/3.3 MB\u001b[0m \u001b[31m117.7 MB/s\u001b[0m eta \u001b[36m0:00:00\u001b[0m\n",
            "\u001b[?25hRequirement already satisfied: six>=1.5 in /usr/local/lib/python3.10/dist-packages (from python-dateutil>=2.8.2->pandas>=1.1.5->nilearn) (1.16.0)\n",
            "Collecting ordered-set<4.2.0,>=4.1.0 (from deepdiff->trx-python>=0.2.9->dipy)\n",
            "  Downloading ordered_set-4.1.0-py3-none-any.whl (7.6 kB)\n",
            "Requirement already satisfied: tomli>=1 in /usr/local/lib/python3.10/dist-packages (from setuptools-scm->trx-python>=0.2.9->dipy) (2.0.1)\n",
            "Installing collected packages: setuptools-scm, ordered-set, nibabel, deepdiff, trx-python, nilearn, dipy\n",
            "  Attempting uninstall: nibabel\n",
            "    Found existing installation: nibabel 4.0.2\n",
            "    Uninstalling nibabel-4.0.2:\n",
            "      Successfully uninstalled nibabel-4.0.2\n",
            "Successfully installed deepdiff-7.0.1 dipy-1.9.0 nibabel-5.2.1 nilearn-0.10.4 ordered-set-4.1.0 setuptools-scm-8.1.0 trx-python-0.3\n"
          ]
        }
      ],
      "source": [
        "!pip install nibabel dipy nilearn networkx"
      ]
    },
    {
      "cell_type": "code",
      "source": [
        "!pip install nibabel"
      ],
      "metadata": {
        "colab": {
          "base_uri": "https://localhost:8080/"
        },
        "id": "cyhBOz5IFr8-",
        "outputId": "73917c73-13d6-4ab0-d7c7-a6113e27684c"
      },
      "execution_count": 12,
      "outputs": [
        {
          "output_type": "stream",
          "name": "stdout",
          "text": [
            "Requirement already satisfied: nibabel in /usr/local/lib/python3.10/dist-packages (5.2.1)\n",
            "Requirement already satisfied: numpy>=1.20 in /usr/local/lib/python3.10/dist-packages (from nibabel) (1.25.2)\n",
            "Requirement already satisfied: packaging>=17 in /usr/local/lib/python3.10/dist-packages (from nibabel) (24.1)\n"
          ]
        }
      ]
    },
    {
      "cell_type": "code",
      "source": [
        "import numpy as np\n",
        "from dipy.io.image import load_nifti\n",
        "from dipy.core.gradients import gradient_table\n",
        "from dipy.reconst.dti import TensorModel, fractional_anisotropy\n",
        "from dipy.tracking.utils import seeds_from_mask\n",
        "from dipy.tracking.local_tracking import LocalTracking\n",
        "from dipy.tracking.stopping_criterion import ThresholdStoppingCriterion\n",
        "from dipy.data import default_sphere\n",
        "from dipy.direction import peaks_from_model\n",
        "from dipy.tracking.streamline import Streamlines\n",
        "from nilearn.image import resample_to_img\n",
        "from nilearn.input_data import NiftiLabelsMasker\n",
        "import matplotlib.pyplot as plt\n",
        "import nibabel as nib"
      ],
      "metadata": {
        "id": "wZmWtLg5BONL"
      },
      "execution_count": 13,
      "outputs": []
    },
    {
      "cell_type": "code",
      "source": [
        "\n",
        "# Define file paths\n",
        "dwi_pa_path = '/content/sub-CON02_ses-preop_acq-PA_dwi.nii.gz'\n",
        "dwi_ap_path = '/content/sub-CON02_ses-preop_acq-AP_dwi.nii.gz'\n",
        "bval_pa_path = '/content/sub-CON02_ses-preop_acq-PA_dwi.bval'\n",
        "bvec_pa_path = '/content/sub-CON02_ses-preop_acq-PA_dwi.bvec'\n",
        "bval_ap_path = '/content/sub-CON02_ses-preop_acq-AP_dwi.bval'\n",
        "bvec_ap_path = '/content/sub-CON02_ses-preop_acq-AP_dwi.bvec'\n",
        "aal_atlas_path = '/content/AAL.nii.gz'"
      ],
      "metadata": {
        "id": "bigOJf0TCP0Z"
      },
      "execution_count": 14,
      "outputs": []
    },
    {
      "cell_type": "code",
      "source": [
        "# Load the DWI PA and AP data\n",
        "data_pa, affine_pa = load_nifti(dwi_pa_path)\n",
        "data_ap, affine_ap = load_nifti(dwi_ap_path)"
      ],
      "metadata": {
        "id": "ILnn7j8OEywd"
      },
      "execution_count": 15,
      "outputs": []
    },
    {
      "cell_type": "code",
      "source": [
        "# Load b-values and b-vectors\n",
        "bvals_pa = np.loadtxt(bval_pa_path)\n",
        "bvecs_pa = np.loadtxt(bvec_pa_path)\n",
        "bvals_ap = np.loadtxt(bval_ap_path)\n",
        "bvecs_ap = np.loadtxt(bvec_ap_path)"
      ],
      "metadata": {
        "id": "vXnIjUgTE7y1"
      },
      "execution_count": 16,
      "outputs": []
    },
    {
      "cell_type": "code",
      "source": [
        "# Concatenate PA and AP data\n",
        "data = np.concatenate((data_pa, data_ap), axis=-1)\n",
        "affine = affine_pa  # Assuming affine matrices are the same"
      ],
      "metadata": {
        "id": "iJy9t2faFA1s"
      },
      "execution_count": 17,
      "outputs": []
    },
    {
      "cell_type": "code",
      "source": [
        "# Concatenate b-values and b-vectors\n",
        "bvals = np.concatenate((bvals_pa, bvals_ap))\n",
        "bvecs = np.concatenate((bvecs_pa, bvecs_ap), axis=1)"
      ],
      "metadata": {
        "id": "5r3GtjI6FEj1"
      },
      "execution_count": 18,
      "outputs": []
    },
    {
      "cell_type": "code",
      "source": [
        "# Load AAL atlas and resample to DWI image space\n",
        "aal_atlas = nib.load(aal_atlas_path)\n",
        "aal_resampled = resample_to_img(aal_atlas, nib.Nifti1Image(data[..., 0], affine))"
      ],
      "metadata": {
        "colab": {
          "base_uri": "https://localhost:8080/"
        },
        "id": "-vtpRLgFFJ5M",
        "outputId": "b6bff452-e6fb-4e6c-e211-1c34ff5a1702"
      },
      "execution_count": 19,
      "outputs": [
        {
          "output_type": "stream",
          "name": "stderr",
          "text": [
            "/usr/local/lib/python3.10/dist-packages/nilearn/image/resampling.py:756: UserWarning: Casting data from int16 to float32\n",
            "  return resample_img(\n"
          ]
        }
      ]
    },
    {
      "cell_type": "code",
      "source": [
        "# Create gradient table\n",
        "gtab = gradient_table(bvals, bvecs.T)"
      ],
      "metadata": {
        "id": "b2OWc0aRF8Hs"
      },
      "execution_count": 20,
      "outputs": []
    },
    {
      "cell_type": "code",
      "source": [
        "# Apply median Otsu mask for brain extraction\n",
        "from dipy.segment.mask import median_otsu\n",
        "maskdata, mask = median_otsu(data, vol_idx=range(10, 50), median_radius=4, numpass=2)"
      ],
      "metadata": {
        "id": "H1EU4n2dGB4M"
      },
      "execution_count": 21,
      "outputs": []
    },
    {
      "cell_type": "code",
      "source": [
        "# Apply local PCA denoising\n",
        "from dipy.denoise.localpca import localpca\n",
        "denoised_data = localpca(maskdata, sigma=1)"
      ],
      "metadata": {
        "id": "-naM0MHRGIHs"
      },
      "execution_count": 22,
      "outputs": []
    },
    {
      "cell_type": "code",
      "source": [
        "# Fit the tensor model\n",
        "tensor_model = TensorModel(gtab)\n",
        "tensor_fit = tensor_model.fit(denoised_data)"
      ],
      "metadata": {
        "id": "hJR6rBDyIGFh"
      },
      "execution_count": 23,
      "outputs": []
    },
    {
      "cell_type": "code",
      "source": [
        "# Calculate fractional anisotropy (FA)\n",
        "fa = fractional_anisotropy(tensor_fit.evals)\n",
        "fa[np.isnan(fa)] = 0"
      ],
      "metadata": {
        "id": "3-8AtPcFKJaU"
      },
      "execution_count": 24,
      "outputs": []
    },
    {
      "cell_type": "code",
      "source": [
        "# Define stopping criterion\n",
        "stopping_criterion = ThresholdStoppingCriterion(fa, 0.2)"
      ],
      "metadata": {
        "id": "DUN-1WWBKKxy"
      },
      "execution_count": 25,
      "outputs": []
    },
    {
      "cell_type": "code",
      "source": [
        "# Generate seeds for tractography\n",
        "seeds = seeds_from_mask(mask, affine, density=2)"
      ],
      "metadata": {
        "id": "-uqLpX9qKOkb"
      },
      "execution_count": 26,
      "outputs": []
    },
    {
      "cell_type": "code",
      "source": [
        "# Perform fiber tracking\n",
        "tensor_peaks = peaks_from_model(tensor_model, denoised_data, default_sphere, relative_peak_threshold=0.5, min_separation_angle=25)\n",
        "streamline_generator = LocalTracking(tensor_peaks, stopping_criterion, seeds, affine, step_size=0.5)\n",
        "streamlines = Streamlines(streamline_generator)"
      ],
      "metadata": {
        "id": "ZoUE8wazKQHr"
      },
      "execution_count": 27,
      "outputs": []
    },
    {
      "cell_type": "code",
      "source": [
        "# Save streamlines (optional)\n",
        "nib.streamlines.save(streamlines, 'streamlines.trk')"
      ],
      "metadata": {
        "colab": {
          "base_uri": "https://localhost:8080/"
        },
        "id": "sBT-MnrCMqP2",
        "outputId": "4ca58fa7-c2e5-48ff-bb88-fa044948190c"
      },
      "execution_count": 28,
      "outputs": [
        {
          "output_type": "stream",
          "name": "stderr",
          "text": [
            "/usr/local/lib/python3.10/dist-packages/nibabel/streamlines/__init__.py:131: ExtensionWarning: The extension you specified is unusual for the provided 'TractogramFile' object.\n",
            "  warnings.warn(msg, ExtensionWarning)\n"
          ]
        }
      ]
    },
    {
      "cell_type": "code",
      "source": [
        "# Extract time series for AAL regions\n",
        "masker = NiftiLabelsMasker(labels_img=aal_resampled, standardize=True)\n",
        "time_series = masker.fit_transform(nib.Nifti1Image(data[..., 0], affine))"
      ],
      "metadata": {
        "colab": {
          "base_uri": "https://localhost:8080/"
        },
        "id": "nPNVuF9jM0KV",
        "outputId": "982597be-117b-4c32-ab70-bec0d0369916"
      },
      "execution_count": 29,
      "outputs": [
        {
          "output_type": "stream",
          "name": "stderr",
          "text": [
            "/usr/local/lib/python3.10/dist-packages/nilearn/signal.py:74: UserWarning: Standardization of 3D signal has been requested but would lead to zero values. Skipping.\n",
            "  warnings.warn(\n"
          ]
        }
      ]
    },
    {
      "cell_type": "code",
      "source": [
        "# Construct the connectome matrix\n",
        "n_regions = 90\n",
        "connectome_matrix = np.zeros((n_regions, n_regions))"
      ],
      "metadata": {
        "id": "8zlVEz2xM3Q-"
      },
      "execution_count": 30,
      "outputs": []
    },
    {
      "cell_type": "code",
      "source": [
        "for streamline in streamlines:\n",
        "    streamline_coords = np.round(streamline).astype(int)\n",
        "    nodes = []\n",
        "    for coord in streamline_coords:\n",
        "        # Ensure coordinates are within bounds\n",
        "        if np.all(coord >= 0) and np.all(coord < aal_resampled.shape):\n",
        "            label = aal_resampled.get_fdata()[tuple(coord)]\n",
        "            # Check if label is within valid range and handle invalid labels\n",
        "            if 0 < label <= n_regions:\n",
        "                # Convert the label to an integer and subtract 1 for zero-based indexing\n",
        "                nodes.append(int(label - 1))\n",
        "\n",
        "    for i, node in enumerate(nodes[:-1]):\n",
        "        next_node = nodes[i + 1]\n",
        "        if node != next_node:\n",
        "            connectome_matrix[node, next_node] += 1\n",
        "            connectome_matrix[next_node, node] += 1"
      ],
      "metadata": {
        "id": "KyIHLMbkM78L"
      },
      "execution_count": 35,
      "outputs": []
    },
    {
      "cell_type": "code",
      "source": [
        "# Normalize the connectivity matrix\n",
        "connectome_matrix /= connectome_matrix.sum(axis=1, keepdims=True)"
      ],
      "metadata": {
        "id": "G-DHpmLDP047"
      },
      "execution_count": 36,
      "outputs": []
    },
    {
      "cell_type": "code",
      "source": [
        "# Save the connectivity matrix\n",
        "np.save('connectome_matrix.npy', connectome_matrix)"
      ],
      "metadata": {
        "id": "YjfNbU7MP6Yj"
      },
      "execution_count": 37,
      "outputs": []
    },
    {
      "cell_type": "code",
      "source": [
        "# Visualize the connectivity matrix\n",
        "plt.imshow(connectome_matrix, cmap='hot', interpolation='nearest')\n",
        "plt.colorbar()\n",
        "plt.title('AAL Connectome Matrix')\n",
        "plt.show()"
      ],
      "metadata": {
        "colab": {
          "base_uri": "https://localhost:8080/",
          "height": 452
        },
        "id": "k1_CIcNAP8gC",
        "outputId": "1c9a5070-c662-4c15-f423-ae01962ccd02"
      },
      "execution_count": 38,
      "outputs": [
        {
          "output_type": "display_data",
          "data": {
            "text/plain": [
              "<Figure size 640x480 with 2 Axes>"
            ],
            "image/png": "[encoded data removed]"
          },
          "metadata": {}
        }
      ]
    },
    {
      "cell_type": "code",
      "source": [
        "print(\"DWI preprocessing and connectome matrix construction complete.\")"
      ],
      "metadata": {
        "colab": {
          "base_uri": "https://localhost:8080/"
        },
        "id": "CG-ucoprQHdS",
        "outputId": "8322ba63-a6c2-421e-eab8-97b038bad691"
      },
      "execution_count": 39,
      "outputs": [
        {
          "output_type": "stream",
          "name": "stdout",
          "text": [
            "DWI preprocessing and connectome matrix construction complete.\n"
          ]
        }
      ]
    }
  ]
}