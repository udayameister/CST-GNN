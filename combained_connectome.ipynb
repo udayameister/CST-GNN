{
  "nbformat": 4,
  "nbformat_minor": 0,
  "metadata": {
    "colab": {
      "provenance": [],
      "authorship_tag": "ABX9TyP5aTX3iekz6yoL1UXcRW6a",
      "include_colab_link": true
    },
    "kernelspec": {
      "name": "python3",
      "display_name": "Python 3"
    },
    "language_info": {
      "name": "python"
    }
  },
  "cells": [
    {
      "cell_type": "markdown",
      "metadata": {
        "id": "view-in-github",
        "colab_type": "text"
      },
      "source": [
        "<a href=\"https://colab.research.google.com/github/udayameister/CST-GNN/blob/main/combained_connectome.ipynb\" target=\"_parent\"><img src=\"https://colab.research.google.com/assets/colab-badge.svg\" alt=\"Open In Colab\"/></a>"
      ]
    },
    {
      "cell_type": "code",
      "execution_count": null,
      "metadata": {
        "id": "-_6VJIYZYKuB"
      },
      "outputs": [],
      "source": [
        "import numpy as np\n",
        "import matplotlib.pyplot as plt\n",
        "\n",
        "# Load preprocessed connectome matrices\n",
        "dwi_connectome_matrix = np.load('connectome_matrix_dwi.npy')\n",
        "fmri_connectome_matrix = np.load('connectome_matrix_fmri.npy')\n",
        "\n",
        "# Verify the matrices have the same shape\n",
        "assert dwi_connectome_matrix.shape == fmri_connectome_matrix.shape, \"Matrices must be the same shape\"\n",
        "\n",
        "# Merge the connectome matrices\n",
        "# Here, we use a simple average, but other methods like concatenation or weighted sums can be used\n",
        "merged_connectome_matrix = (dwi_connectome_matrix + fmri_connectome_matrix) / 2\n",
        "\n",
        "# Save the merged connectome matrix\n",
        "np.save('merged_connectome_matrix.npy', merged_connectome_matrix)\n",
        "\n",
        "# Visualize the merged connectome matrix\n",
        "plt.imshow(merged_connectome_matrix, cmap='hot', interpolation='nearest')\n",
        "plt.colorbar()\n",
        "plt.title('Merged Connectome Matrix (DWI + fMRI)')\n",
        "plt.show()\n",
        "\n",
        "print(\"Merged connectome matrix construction complete.\")\n"
      ]
    }
  ]
}